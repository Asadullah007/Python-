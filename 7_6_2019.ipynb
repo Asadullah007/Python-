{
 "cells": [
  {
   "cell_type": "code",
   "execution_count": 1,
   "metadata": {},
   "outputs": [],
   "source": [
    "with open('firstfile.txt',\"w\") as f:\n",
    "    f.write(\"Hello PIAIC \")\n",
    "\n",
    "    \n",
    "    "
   ]
  },
  {
   "cell_type": "code",
   "execution_count": 2,
   "metadata": {},
   "outputs": [],
   "source": [
    "with open('firstfile.txt',\"a\") as f:\n",
    "    f.write(\"Muhammad shoaib \\n AIC010529 \\n Gulshan branch\")"
   ]
  },
  {
   "cell_type": "code",
   "execution_count": 3,
   "metadata": {},
   "outputs": [
    {
     "name": "stdout",
     "output_type": "stream",
     "text": [
      "Hello PIAIC Muhammad shoaib \n",
      " AIC010529 \n",
      " Gulshan branch\n"
     ]
    }
   ],
   "source": [
    "with open(\"firstfile.txt\", \"r\") as f: \n",
    "    text_of_file = f.read()\n",
    "print(text_of_file)"
   ]
  },
  {
   "cell_type": "code",
   "execution_count": 4,
   "metadata": {},
   "outputs": [
    {
     "name": "stdout",
     "output_type": "stream",
     "text": [
      "Enter your Name: as\n",
      "Enter your age: asd\n",
      "Enter your Cgpa: asd\n",
      "Enter your Name: asd\n",
      "Enter your age: asd\n",
      "Enter your Cgpa: sad\n",
      "Enter your Name: sad\n",
      "Enter your age: as\n",
      "Enter your Cgpa: dsa\n",
      "Enter your Name: d\n",
      "Enter your age: sad\n",
      "Enter your Cgpa: sa\n",
      "Enter your Name: d\n",
      "Enter your age: sad\n",
      "Enter your Cgpa: sa\n"
     ]
    }
   ],
   "source": [
    "with open('secondfile.csv',\"w\") as f:\n",
    "    for i in range(5):\n",
    "        \n",
    "        name=input(\"Enter your Name: \")\n",
    "        age=input(\"Enter your age: \")\n",
    "        Cgpa=input(\"Enter your Cgpa: \")\n",
    "        f.write(name+\",\"+age+\",\"+Cgpa+\"\\n\")\n",
    "        "
   ]
  },
  {
   "cell_type": "code",
   "execution_count": 5,
   "metadata": {},
   "outputs": [
    {
     "ename": "ValueError",
     "evalue": "invalid literal for int() with base 10: 'asd'",
     "output_type": "error",
     "traceback": [
      "\u001b[1;31m---------------------------------------------------------------------------\u001b[0m",
      "\u001b[1;31mValueError\u001b[0m                                Traceback (most recent call last)",
      "\u001b[1;32m<ipython-input-5-f8baecf67fbf>\u001b[0m in \u001b[0;36m<module>\u001b[1;34m\u001b[0m\n\u001b[0;32m      3\u001b[0m     \u001b[1;32mfor\u001b[0m \u001b[0ml\u001b[0m \u001b[1;32min\u001b[0m \u001b[0mlines\u001b[0m\u001b[1;33m:\u001b[0m\u001b[1;33m\u001b[0m\u001b[1;33m\u001b[0m\u001b[0m\n\u001b[0;32m      4\u001b[0m         \u001b[0mk\u001b[0m\u001b[1;33m=\u001b[0m\u001b[0ml\u001b[0m\u001b[1;33m.\u001b[0m\u001b[0msplit\u001b[0m\u001b[1;33m(\u001b[0m\u001b[1;34m','\u001b[0m\u001b[1;33m)\u001b[0m\u001b[1;33m\u001b[0m\u001b[1;33m\u001b[0m\u001b[0m\n\u001b[1;32m----> 5\u001b[1;33m         \u001b[0mage\u001b[0m\u001b[1;33m=\u001b[0m\u001b[0mint\u001b[0m\u001b[1;33m(\u001b[0m\u001b[0mk\u001b[0m\u001b[1;33m[\u001b[0m\u001b[1;36m1\u001b[0m\u001b[1;33m]\u001b[0m\u001b[1;33m)\u001b[0m\u001b[1;33m\u001b[0m\u001b[1;33m\u001b[0m\u001b[0m\n\u001b[0m\u001b[0;32m      6\u001b[0m         \u001b[1;32mif\u001b[0m \u001b[0mage\u001b[0m\u001b[1;33m>=\u001b[0m\u001b[1;36m18\u001b[0m\u001b[1;33m:\u001b[0m\u001b[1;33m\u001b[0m\u001b[1;33m\u001b[0m\u001b[0m\n\u001b[0;32m      7\u001b[0m             \u001b[0mprint\u001b[0m\u001b[1;33m(\u001b[0m\u001b[1;34mf\"{k[0]} is adult\"\u001b[0m\u001b[1;33m)\u001b[0m\u001b[1;33m\u001b[0m\u001b[1;33m\u001b[0m\u001b[0m\n",
      "\u001b[1;31mValueError\u001b[0m: invalid literal for int() with base 10: 'asd'"
     ]
    }
   ],
   "source": [
    "with open('secondfile.csv',\"r\") as f:\n",
    "    lines = f.readlines()\n",
    "    for l in lines:\n",
    "        k=l.split(',')\n",
    "        age=int(k[1])\n",
    "        if age>=18:\n",
    "            print(f\"{k[0]} is adult\")\n",
    "        else:\n",
    "            print(f\"{k[0]} is not adult\")\n"
   ]
  },
  {
   "cell_type": "code",
   "execution_count": null,
   "metadata": {},
   "outputs": [],
   "source": [
    "import csv"
   ]
  },
  {
   "cell_type": "code",
   "execution_count": null,
   "metadata": {},
   "outputs": [],
   "source": [
    "with open('secondfile.csv',\"r\") as f:\n",
    "    text_file=csv.reader(f)\n",
    "    for k in text_file:\n",
    "        age=int(k[1])\n",
    "        if age>=18:\n",
    "            print(f\"{k[0]} is adult\")\n",
    "        else:\n",
    "            print(f\"{k[0]} is not adult\")\n",
    "\n",
    "    "
   ]
  },
  {
   "cell_type": "code",
   "execution_count": null,
   "metadata": {},
   "outputs": [],
   "source": [
    "with open('secondfile.csv',\"w\",newline=\"\") as f:\n",
    "    text2=csv.writer(f, delimiter=\",\")\n",
    "    for i in range(5):\n",
    "        \n",
    "        name=input(\"Enter your Name: \")\n",
    "        age=input(\"Enter your age: \")\n",
    "        Cgpa=input(\"Enter your Cgpa: \")\n",
    "        text2.writerow([name,age,Cgpa])\n",
    "        "
   ]
  },
  {
   "cell_type": "code",
   "execution_count": null,
   "metadata": {},
   "outputs": [],
   "source": [
    "with open('teamfile.csv',\"w\",newline=\"\") as f:\n",
    "    text2=csv.writer(f, delimiter=\"\\t\")\n",
    "    text2.writerow([\"India\",10,16])\n",
    "    text2.writerow([\"Eng\",10,12])\n",
    "    text2.writerow([\"aus\",10,14])\n",
    "    text2.writerow([\"newzealand\",10,11])\n",
    "        "
   ]
  },
  {
   "cell_type": "code",
   "execution_count": null,
   "metadata": {},
   "outputs": [],
   "source": [
    "with open('teamfile.csv',\"r\") as f:\n",
    "    text_file=csv.reader(f,delimiter='\\t')\n",
    "    for k in text_file:\n",
    "        points=int(k[2])\n",
    "        if points>=12:\n",
    "            print(f\"{k[0]} is in semifinal\")\n",
    "        else:\n",
    "            print(f\"{k[0]} is  not in  semifinal\")\n"
   ]
  },
  {
   "cell_type": "code",
   "execution_count": 6,
   "metadata": {},
   "outputs": [],
   "source": [
    "from calc import calculator"
   ]
  },
  {
   "cell_type": "code",
   "execution_count": 7,
   "metadata": {},
   "outputs": [],
   "source": [
    "c = calculator()"
   ]
  },
  {
   "cell_type": "code",
   "execution_count": 8,
   "metadata": {},
   "outputs": [
    {
     "data": {
      "text/plain": [
       "9"
      ]
     },
     "execution_count": 8,
     "metadata": {},
     "output_type": "execute_result"
    }
   ],
   "source": [
    "c.add(4,5)"
   ]
  },
  {
   "cell_type": "code",
   "execution_count": null,
   "metadata": {},
   "outputs": [],
   "source": []
  },
  {
   "cell_type": "code",
   "execution_count": null,
   "metadata": {},
   "outputs": [],
   "source": []
  },
  {
   "cell_type": "code",
   "execution_count": null,
   "metadata": {},
   "outputs": [],
   "source": []
  }
 ],
 "metadata": {
  "kernelspec": {
   "display_name": "Python 3",
   "language": "python",
   "name": "python3"
  },
  "language_info": {
   "codemirror_mode": {
    "name": "ipython",
    "version": 3
   },
   "file_extension": ".py",
   "mimetype": "text/x-python",
   "name": "python",
   "nbconvert_exporter": "python",
   "pygments_lexer": "ipython3",
   "version": "3.7.3"
  }
 },
 "nbformat": 4,
 "nbformat_minor": 2
}
